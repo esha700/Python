{
 "cells": [
  {
   "cell_type": "code",
   "execution_count": null,
   "metadata": {},
   "outputs": [],
   "source": [
    "#Sales of Riding Mowers: Scatter Plots. A company that manufactures riding mowers wants to identify the best sales\n",
    "#prospects for an intensive sales campaign. In particular, the manufacturer is interested in classifying households as \n",
    "#prospective owners or nonowners on the basis of Income (in $1000s) and Lot Size (in 1000 ft2). The marketing expert looked\n",
    "#at a random sample of 24 households, given in the file RidingMowers.csv.\n",
    "#a. Using Python, create a scatter plot of Lot Size vs. Income, color-coded by the outcome variable owner/nonowner. Make\n",
    "#sure to obtain a well-formatted plot (create legible labels and a legend, etc.)."
   ]
  },
  {
   "cell_type": "code",
   "execution_count": 1,
   "metadata": {},
   "outputs": [],
   "source": [
    "import pandas as pd\n",
    "import seaborn as sns"
   ]
  },
  {
   "cell_type": "code",
   "execution_count": 4,
   "metadata": {},
   "outputs": [],
   "source": [
    "rm_df = pd.read_csv('RidingMowers.csv')"
   ]
  },
  {
   "cell_type": "code",
   "execution_count": 5,
   "metadata": {},
   "outputs": [
    {
     "name": "stdout",
     "output_type": "stream",
     "text": [
      "    Income  Lot_Size Ownership\n",
      "0     60.0      18.4     Owner\n",
      "1     85.5      16.8     Owner\n",
      "2     64.8      21.6     Owner\n",
      "3     61.5      20.8     Owner\n",
      "4     87.0      23.6     Owner\n",
      "5    110.1      19.2     Owner\n",
      "6    108.0      17.6     Owner\n",
      "7     82.8      22.4     Owner\n",
      "8     69.0      20.0     Owner\n",
      "9     93.0      20.8     Owner\n",
      "10    51.0      22.0     Owner\n",
      "11    81.0      20.0     Owner\n",
      "12    75.0      19.6  Nonowner\n",
      "13    52.8      20.8  Nonowner\n",
      "14    64.8      17.2  Nonowner\n",
      "15    43.2      20.4  Nonowner\n",
      "16    84.0      17.6  Nonowner\n",
      "17    49.2      17.6  Nonowner\n",
      "18    59.4      16.0  Nonowner\n",
      "19    66.0      18.4  Nonowner\n",
      "20    47.4      16.4  Nonowner\n",
      "21    33.0      18.8  Nonowner\n",
      "22    51.0      14.0  Nonowner\n",
      "23    63.0      14.8  Nonowner\n"
     ]
    }
   ],
   "source": [
    "print(rm_df)"
   ]
  },
  {
   "cell_type": "code",
   "execution_count": 9,
   "metadata": {},
   "outputs": [
    {
     "data": {
      "text/plain": [
       "[Text(0, 0.5, 'Income'),\n",
       " Text(0.5, 0, 'LotSize'),\n",
       " Text(0.5, 1.0, 'Household Classification of Riding Mowers')]"
      ]
     },
     "execution_count": 9,
     "metadata": {},
     "output_type": "execute_result"
    },
    {
     "data": {
      "image/png": "[encoded data removed]",
      "text/plain": [
       "<Figure size 432x288 with 1 Axes>"
      ]
     },
     "metadata": {
      "needs_background": "light"
     },
     "output_type": "display_data"
    }
   ],
   "source": [
    "sns.scatterplot('Lot_Size', 'Income', hue='Ownership', data=rm_df).set(title = 'Household Classification of Riding Mowers', xlabel = 'LotSize', ylabel = 'Income')"
   ]
  },
  {
   "cell_type": "code",
   "execution_count": null,
   "metadata": {},
   "outputs": [],
   "source": []
  }
 ],
 "metadata": {
  "kernelspec": {
   "display_name": "Python 3",
   "language": "python",
   "name": "python3"
  },
  "language_info": {
   "codemirror_mode": {
    "name": "ipython",
    "version": 3
   },
   "file_extension": ".py",
   "mimetype": "text/x-python",
   "name": "python",
   "nbconvert_exporter": "python",
   "pygments_lexer": "ipython3",
   "version": "3.7.7"
  }
 },
 "nbformat": 4,
 "nbformat_minor": 4
}
