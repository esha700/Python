{
 "cells": [
  {
   "cell_type": "code",
   "execution_count": 17,
   "metadata": {},
   "outputs": [],
   "source": [
    "#Universal Bank - Fitting a Logistic Regression Model"
   ]
  },
  {
   "cell_type": "code",
   "execution_count": 18,
   "metadata": {},
   "outputs": [],
   "source": [
    "%matplotlib inline\n",
    "from pathlib import Path\n",
    "import numpy as np\n",
    "import pandas as pd\n",
    "from sklearn.linear_model import LogisticRegression, LogisticRegressionCV\n",
    "from sklearn.model_selection import train_test_split\n",
    "import statsmodels.api as sm\n",
    "from mord import LogisticIT\n",
    "import matplotlib.pylab as plt\n",
    "import seaborn as sns\n",
    "from dmba import classificationSummary, gainsChart, liftChart\n",
    "from dmba.metric import AIC_score\n"
   ]
  },
  {
   "cell_type": "code",
   "execution_count": 11,
   "metadata": {},
   "outputs": [
    {
     "name": "stdout",
     "output_type": "stream",
     "text": [
      "intercept  -12.105194006575854\n",
      "            Age  Experience    Income    Family     CCAvg  Mortgage  \\\n",
      "coeff -0.051667    0.052952  0.058676  0.609565  0.240421   0.00101   \n",
      "\n",
      "       Securities_Account  CD_Account    Online  CreditCard  \\\n",
      "coeff           -1.030108    3.648152 -0.678944   -0.961048   \n",
      "\n",
      "       Education_Graduate  Education_Advanced/Professional  \n",
      "coeff             4.19873                         4.358777  \n",
      "\n",
      "AIC -709.1524769205962\n"
     ]
    }
   ],
   "source": [
    "bank_df = pd.read_csv('UniversalBank.csv')\n",
    "bank_df.drop(columns=['ID', 'ZIP Code'], inplace=True)\n",
    "bank_df.columns = [c.replace(' ', '_') for c in bank_df.columns]\n",
    "\n",
    "# Treat education as categorical, convert to dummy variables\n",
    "bank_df['Education'] = bank_df['Education'].astype('category')\n",
    "new_categories = {1: 'Undergrad', 2: 'Graduate', 3: 'Advanced/Professional'}\n",
    "bank_df.Education.cat.rename_categories(new_categories, inplace=True)\n",
    "bank_df = pd.get_dummies(bank_df, prefix_sep='_', drop_first=True)\n",
    "\n",
    "y = bank_df['Personal_Loan']\n",
    "X = bank_df.drop(columns=['Personal_Loan'])\n",
    "\n",
    "# Partition data\n",
    "train_X, valid_X, train_y, valid_y = train_test_split(X, y, test_size=0.4, random_state=1)\n",
    "\n",
    "#The columns ID and ZIP Code are not relevant for model building and therefore removed. Treat Education as categorical\n",
    "# fit a logistic regression (set penalty=l2 and C=1e42 to avoid regularization)\n",
    "logit_reg = LogisticRegression(penalty=\"l2\", C=1e42, solver='liblinear')\n",
    "logit_reg.fit(train_X, train_y)\n",
    "\n",
    "print('intercept ', logit_reg.intercept_[0])\n",
    "print(pd.DataFrame({'coeff': logit_reg.coef_[0]}, index=X.columns).transpose())\n",
    "print()\n",
    "print('AIC', AIC_score(valid_y, logit_reg.predict(valid_X), df = len(train_X.columns) + 1))"
   ]
  },
  {
   "cell_type": "code",
   "execution_count": 12,
   "metadata": {},
   "outputs": [
    {
     "name": "stdout",
     "output_type": "stream",
     "text": [
      "intercept  -6.048919279034497\n",
      "               Income\n",
      "coefficient  0.036343\n",
      "\n",
      "AIC 843.5163143186965\n"
     ]
    }
   ],
   "source": [
    "predictors = ['Income']\n",
    "outcome = 'Personal_Loan'\n",
    "\n",
    "y = bank_df[outcome]\n",
    "X = bank_df[predictors]\n",
    "\n",
    "# partition data\n",
    "train_X, valid_X, train_y, valid_y = train_test_split(X, y, test_size=0.4, random_state=1)\n",
    "\n",
    "# fit a logistic regression (set penalty=l2 and C=1e42 to avoid regularization)\n",
    "logit_reg = LogisticRegression(penalty=\"l2\", C=1e42, solver='liblinear')\n",
    "logit_reg.fit(train_X, train_y)\n",
    "\n",
    "print('intercept ', logit_reg.intercept_[0])\n",
    "print(pd.DataFrame({'coefficient': logit_reg.coef_[0]}, index=X.columns).transpose())\n",
    "print()\n",
    "print('AIC', AIC_score(valid_y, logit_reg.predict(valid_X), df = len(train_X.columns) + 1))"
   ]
  },
  {
   "cell_type": "code",
   "execution_count": 13,
   "metadata": {},
   "outputs": [
    {
     "name": "stdout",
     "output_type": "stream",
     "text": [
      "      actual      p(0)      p(1)  predicted\n",
      "2764       0  0.952399  0.047601          0\n",
      "932        0  0.878526  0.121474          0\n",
      "2721       1  0.440692  0.559308          1\n",
      "702        1  0.889689  0.110311          0\n"
     ]
    }
   ],
   "source": [
    "#Predicting to get probabilities\n",
    "logit_reg_pred = logit_reg.predict(valid_X)\n",
    "logit_reg_proba = logit_reg.predict_proba(valid_X)\n",
    "logit_result = pd.DataFrame({'actual': valid_y, \n",
    "                             'p(0)': [p[0] for p in logit_reg_proba],\n",
    "                             'p(1)': [p[1] for p in logit_reg_proba],\n",
    "                             'predicted': logit_reg_pred })\n",
    "\n",
    "# display four different cases\n",
    "interestingCases = [2764, 932, 2721, 702]\n",
    "print(logit_result.loc[interestingCases])"
   ]
  },
  {
   "cell_type": "code",
   "execution_count": 14,
   "metadata": {},
   "outputs": [
    {
     "name": "stdout",
     "output_type": "stream",
     "text": [
      "Confusion Matrix (Accuracy 0.9080)\n",
      "\n",
      "       Prediction\n",
      "Actual    0    1\n",
      "     0 2632   81\n",
      "     1  195   92\n",
      "Confusion Matrix (Accuracy 0.9110)\n",
      "\n",
      "       Prediction\n",
      "Actual    0    1\n",
      "     0 1763   44\n",
      "     1  134   59\n"
     ]
    }
   ],
   "source": [
    "#Generating the confusion matrix\n",
    "classificationSummary(train_y, logit_reg.predict(train_X))\n",
    "classificationSummary(valid_y, logit_reg.predict(valid_X))"
   ]
  },
  {
   "cell_type": "code",
   "execution_count": 16,
   "metadata": {},
   "outputs": [
    {
     "data": {
      "image/png": "[encoded data removed]",
      "text/plain": [
       "<Figure size 720x288 with 2 Axes>"
      ]
     },
     "metadata": {
      "needs_background": "light"
     },
     "output_type": "display_data"
    }
   ],
   "source": [
    "#Plotting the Gains and Decile Chart\n",
    "df = logit_result.sort_values(by=['p(1)'], ascending=False)\n",
    "fig, axes = plt.subplots(nrows=1, ncols=2, figsize=(10, 4))\n",
    "\n",
    "gainsChart(df.actual, ax=axes[0])\n",
    "liftChart(df['p(1)'], title=False, ax=axes[1])\n",
    "    \n",
    "plt.tight_layout()\n",
    "plt.savefig(\"mytest.png\")\n",
    "plt.show()"
   ]
  },
  {
   "cell_type": "code",
   "execution_count": null,
   "metadata": {},
   "outputs": [],
   "source": []
  }
 ],
 "metadata": {
  "kernelspec": {
   "display_name": "Python 3",
   "language": "python",
   "name": "python3"
  },
  "language_info": {
   "codemirror_mode": {
    "name": "ipython",
    "version": 3
   },
   "file_extension": ".py",
   "mimetype": "text/x-python",
   "name": "python",
   "nbconvert_exporter": "python",
   "pygments_lexer": "ipython3",
   "version": "3.7.7"
  }
 },
 "nbformat": 4,
 "nbformat_minor": 4
}
